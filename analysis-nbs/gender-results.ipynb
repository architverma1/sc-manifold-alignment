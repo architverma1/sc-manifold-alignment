{
 "cells": [
  {
   "cell_type": "code",
   "execution_count": 1,
   "metadata": {},
   "outputs": [],
   "source": [
    "import numpy as np\n",
    "import pandas as pd"
   ]
  },
  {
   "cell_type": "code",
   "execution_count": 2,
   "metadata": {},
   "outputs": [],
   "source": [
    "mask = pd.read_csv('/Users/architverma/Documents/manifold-alignment-paper/gilad-data/gse118723/GSE118723_quality-single-cells.txt.gz', delimiter = '\\t', header = None, names = ['Cell','Mask']),"
   ]
  },
  {
   "cell_type": "code",
   "execution_count": 3,
   "metadata": {},
   "outputs": [],
   "source": [
    "counts = pd.read_csv('/Users/architverma/Documents/manifold-alignment-paper/gilad-data/gse118723/GSE118723_scqtl-counts.txt.gz', delimiter = '\\t')"
   ]
  },
  {
   "cell_type": "code",
   "execution_count": 4,
   "metadata": {},
   "outputs": [],
   "source": [
    "meta_data = pd.read_csv('/Users/architverma/Documents/manifold-alignment-paper/gilad-data/gse118723/GSE118723_scqtl-annotation.txt.gz', delimiter = '\\t')"
   ]
  },
  {
   "cell_type": "code",
   "execution_count": 5,
   "metadata": {},
   "outputs": [
    {
     "data": {
      "text/plain": [
       "(20151, 7585)"
      ]
     },
     "execution_count": 5,
     "metadata": {},
     "output_type": "execute_result"
    }
   ],
   "source": [
    "counts.shape"
   ]
  },
  {
   "cell_type": "code",
   "execution_count": 6,
   "metadata": {},
   "outputs": [],
   "source": [
    "mm = mask[0]['Mask'].values"
   ]
  },
  {
   "cell_type": "code",
   "execution_count": 7,
   "metadata": {},
   "outputs": [],
   "source": [
    "counts_mat = np.array(counts.values[:,1:]).astype(np.int)"
   ]
  },
  {
   "cell_type": "code",
   "execution_count": 8,
   "metadata": {},
   "outputs": [
    {
     "name": "stdout",
     "output_type": "stream",
     "text": [
      "(20151, 5597)\n"
     ]
    }
   ],
   "source": [
    "counts_mat_post = counts_mat[:,mm]\n",
    "print(counts_mat_post.shape)"
   ]
  },
  {
   "cell_type": "code",
   "execution_count": 9,
   "metadata": {},
   "outputs": [],
   "source": [
    "ids = list(counts)[1:]"
   ]
  },
  {
   "cell_type": "code",
   "execution_count": 10,
   "metadata": {},
   "outputs": [
    {
     "name": "stdout",
     "output_type": "stream",
     "text": [
      "54\n"
     ]
    }
   ],
   "source": [
    "ids_clip = [ids[i][0:7] for i in range(len(ids))]\n",
    "ids_array = (np.array(ids_clip)[mm])\n",
    "print(len(np.unique(ids_array)))"
   ]
  },
  {
   "cell_type": "code",
   "execution_count": 11,
   "metadata": {},
   "outputs": [
    {
     "data": {
      "text/html": [
       "<div>\n",
       "<style scoped>\n",
       "    .dataframe tbody tr th:only-of-type {\n",
       "        vertical-align: middle;\n",
       "    }\n",
       "\n",
       "    .dataframe tbody tr th {\n",
       "        vertical-align: top;\n",
       "    }\n",
       "\n",
       "    .dataframe thead th {\n",
       "        text-align: right;\n",
       "    }\n",
       "</style>\n",
       "<table border=\"1\" class=\"dataframe\">\n",
       "  <thead>\n",
       "    <tr style=\"text-align: right;\">\n",
       "      <th></th>\n",
       "      <th>experiment</th>\n",
       "      <th>well</th>\n",
       "      <th>batch</th>\n",
       "      <th>cell_number</th>\n",
       "      <th>concentration</th>\n",
       "      <th>tra1.60</th>\n",
       "      <th>individual.1</th>\n",
       "      <th>individual.2</th>\n",
       "      <th>individual.3</th>\n",
       "      <th>individual.4</th>\n",
       "      <th>...</th>\n",
       "      <th>detect_hs</th>\n",
       "      <th>chip_id</th>\n",
       "      <th>chipmix</th>\n",
       "      <th>freemix</th>\n",
       "      <th>snps</th>\n",
       "      <th>reads</th>\n",
       "      <th>avg_dp</th>\n",
       "      <th>min_dp</th>\n",
       "      <th>snps_w_min</th>\n",
       "      <th>valid_id</th>\n",
       "    </tr>\n",
       "  </thead>\n",
       "  <tbody>\n",
       "    <tr>\n",
       "      <th>0</th>\n",
       "      <td>2192018</td>\n",
       "      <td>A01</td>\n",
       "      <td>b6</td>\n",
       "      <td>1</td>\n",
       "      <td>0.777191</td>\n",
       "      <td>True</td>\n",
       "      <td>NA18517</td>\n",
       "      <td>NA18913</td>\n",
       "      <td>NA19193</td>\n",
       "      <td>NA19210</td>\n",
       "      <td>...</td>\n",
       "      <td>5124</td>\n",
       "      <td>NA18517</td>\n",
       "      <td>0.70757</td>\n",
       "      <td>0.26189</td>\n",
       "      <td>311848</td>\n",
       "      <td>2448</td>\n",
       "      <td>0.01</td>\n",
       "      <td>1</td>\n",
       "      <td>1402</td>\n",
       "      <td>True</td>\n",
       "    </tr>\n",
       "    <tr>\n",
       "      <th>1</th>\n",
       "      <td>2192018</td>\n",
       "      <td>A02</td>\n",
       "      <td>b6</td>\n",
       "      <td>1</td>\n",
       "      <td>0.372280</td>\n",
       "      <td>True</td>\n",
       "      <td>NA18517</td>\n",
       "      <td>NA18913</td>\n",
       "      <td>NA19193</td>\n",
       "      <td>NA19210</td>\n",
       "      <td>...</td>\n",
       "      <td>3514</td>\n",
       "      <td>NA18913</td>\n",
       "      <td>0.52503</td>\n",
       "      <td>0.18181</td>\n",
       "      <td>311848</td>\n",
       "      <td>1331</td>\n",
       "      <td>0.00</td>\n",
       "      <td>1</td>\n",
       "      <td>829</td>\n",
       "      <td>True</td>\n",
       "    </tr>\n",
       "    <tr>\n",
       "      <th>2</th>\n",
       "      <td>2192018</td>\n",
       "      <td>A03</td>\n",
       "      <td>b6</td>\n",
       "      <td>1</td>\n",
       "      <td>1.429865</td>\n",
       "      <td>True</td>\n",
       "      <td>NA18517</td>\n",
       "      <td>NA18913</td>\n",
       "      <td>NA19193</td>\n",
       "      <td>NA19210</td>\n",
       "      <td>...</td>\n",
       "      <td>6743</td>\n",
       "      <td>NA19210</td>\n",
       "      <td>0.45602</td>\n",
       "      <td>0.15698</td>\n",
       "      <td>311848</td>\n",
       "      <td>5360</td>\n",
       "      <td>0.02</td>\n",
       "      <td>1</td>\n",
       "      <td>2262</td>\n",
       "      <td>True</td>\n",
       "    </tr>\n",
       "    <tr>\n",
       "      <th>3</th>\n",
       "      <td>2192018</td>\n",
       "      <td>A04</td>\n",
       "      <td>b6</td>\n",
       "      <td>1</td>\n",
       "      <td>1.990741</td>\n",
       "      <td>True</td>\n",
       "      <td>NA18517</td>\n",
       "      <td>NA18913</td>\n",
       "      <td>NA19193</td>\n",
       "      <td>NA19210</td>\n",
       "      <td>...</td>\n",
       "      <td>7933</td>\n",
       "      <td>NA18913</td>\n",
       "      <td>0.47715</td>\n",
       "      <td>0.17373</td>\n",
       "      <td>311848</td>\n",
       "      <td>7104</td>\n",
       "      <td>0.02</td>\n",
       "      <td>1</td>\n",
       "      <td>3019</td>\n",
       "      <td>True</td>\n",
       "    </tr>\n",
       "    <tr>\n",
       "      <th>4</th>\n",
       "      <td>2192018</td>\n",
       "      <td>A05</td>\n",
       "      <td>b6</td>\n",
       "      <td>1</td>\n",
       "      <td>2.545412</td>\n",
       "      <td>True</td>\n",
       "      <td>NA18517</td>\n",
       "      <td>NA18913</td>\n",
       "      <td>NA19193</td>\n",
       "      <td>NA19210</td>\n",
       "      <td>...</td>\n",
       "      <td>8767</td>\n",
       "      <td>NA19193</td>\n",
       "      <td>0.36809</td>\n",
       "      <td>0.15042</td>\n",
       "      <td>311848</td>\n",
       "      <td>9445</td>\n",
       "      <td>0.03</td>\n",
       "      <td>1</td>\n",
       "      <td>3881</td>\n",
       "      <td>True</td>\n",
       "    </tr>\n",
       "  </tbody>\n",
       "</table>\n",
       "<p>5 rows × 40 columns</p>\n",
       "</div>"
      ],
      "text/plain": [
       "   experiment well batch  cell_number  concentration  tra1.60 individual.1  \\\n",
       "0     2192018  A01    b6            1       0.777191     True      NA18517   \n",
       "1     2192018  A02    b6            1       0.372280     True      NA18517   \n",
       "2     2192018  A03    b6            1       1.429865     True      NA18517   \n",
       "3     2192018  A04    b6            1       1.990741     True      NA18517   \n",
       "4     2192018  A05    b6            1       2.545412     True      NA18517   \n",
       "\n",
       "  individual.2 individual.3 individual.4  ...  detect_hs  chip_id  chipmix  \\\n",
       "0      NA18913      NA19193      NA19210  ...       5124  NA18517  0.70757   \n",
       "1      NA18913      NA19193      NA19210  ...       3514  NA18913  0.52503   \n",
       "2      NA18913      NA19193      NA19210  ...       6743  NA19210  0.45602   \n",
       "3      NA18913      NA19193      NA19210  ...       7933  NA18913  0.47715   \n",
       "4      NA18913      NA19193      NA19210  ...       8767  NA19193  0.36809   \n",
       "\n",
       "   freemix    snps  reads  avg_dp  min_dp  snps_w_min  valid_id  \n",
       "0  0.26189  311848   2448    0.01       1        1402      True  \n",
       "1  0.18181  311848   1331    0.00       1         829      True  \n",
       "2  0.15698  311848   5360    0.02       1        2262      True  \n",
       "3  0.17373  311848   7104    0.02       1        3019      True  \n",
       "4  0.15042  311848   9445    0.03       1        3881      True  \n",
       "\n",
       "[5 rows x 40 columns]"
      ]
     },
     "execution_count": 11,
     "metadata": {},
     "output_type": "execute_result"
    }
   ],
   "source": [
    "meta_data.head()"
   ]
  },
  {
   "cell_type": "code",
   "execution_count": 12,
   "metadata": {},
   "outputs": [],
   "source": [
    "meta1000 = pd.read_csv('1000genomes_meta.csv')"
   ]
  },
  {
   "cell_type": "code",
   "execution_count": null,
   "metadata": {},
   "outputs": [],
   "source": []
  },
  {
   "cell_type": "code",
   "execution_count": 13,
   "metadata": {},
   "outputs": [],
   "source": [
    "#meta1000"
   ]
  },
  {
   "cell_type": "code",
   "execution_count": 14,
   "metadata": {},
   "outputs": [],
   "source": [
    "dat_ids = [np.char.split(ids,sep = '.')[i][0] for i in range(len(ids))]"
   ]
  },
  {
   "cell_type": "code",
   "execution_count": 15,
   "metadata": {},
   "outputs": [],
   "source": [
    "dat_meta_map = [meta1000[meta1000['Catalog ID'] == dat_ids[i]].index[0] for i in range(len(ids))]"
   ]
  },
  {
   "cell_type": "code",
   "execution_count": 16,
   "metadata": {},
   "outputs": [],
   "source": [
    "dat_genders = meta1000['Gender'][dat_meta_map]"
   ]
  },
  {
   "cell_type": "code",
   "execution_count": 17,
   "metadata": {},
   "outputs": [],
   "source": [
    "import h5py"
   ]
  },
  {
   "cell_type": "code",
   "execution_count": 18,
   "metadata": {},
   "outputs": [],
   "source": [
    "#fit = h5py.File('./rand-500-fullM/model-output-final.hdf5')\n",
    "fit = h5py.File('./gilad-pca-matern-q10-noz-log2/model-output-final.hdf5')"
   ]
  },
  {
   "cell_type": "code",
   "execution_count": 19,
   "metadata": {},
   "outputs": [],
   "source": [
    "fit2 = h5py.File('./gender-results/only_gender-pca-actually-1000-fullM/model-output-final.hdf5')"
   ]
  },
  {
   "cell_type": "code",
   "execution_count": 20,
   "metadata": {},
   "outputs": [],
   "source": [
    "fit3 = h5py.File('./gender-results/only_gender-rand-1000-fullM/model-output-final.hdf5')"
   ]
  },
  {
   "cell_type": "code",
   "execution_count": null,
   "metadata": {},
   "outputs": [],
   "source": []
  },
  {
   "cell_type": "code",
   "execution_count": 21,
   "metadata": {},
   "outputs": [],
   "source": [
    "import matplotlib.pyplot as plt"
   ]
  },
  {
   "cell_type": "code",
   "execution_count": 22,
   "metadata": {},
   "outputs": [],
   "source": [
    "plt.style.use('seaborn-poster')"
   ]
  },
  {
   "cell_type": "code",
   "execution_count": 40,
   "metadata": {},
   "outputs": [
    {
     "data": {
      "image/png": "[encoded data removed]",
      "text/plain": [
       "<Figure size 921.6x633.6 with 1 Axes>"
      ]
     },
     "metadata": {
      "needs_background": "light"
     },
     "output_type": "display_data"
    }
   ],
   "source": [
    "for i in dat_genders.unique():\n",
    "    mask = dat_genders == i\n",
    "    mask = mask[mm]\n",
    "    mask = np.array(mask.values, dtype = bool)\n",
    "    plt.scatter(fit['x_mean'][mask,1], fit['x_mean'][mask,2], s = 5.0, label = i)\n",
    "plt.legend()\n",
    "plt.xlabel('Latent Dimension 1')\n",
    "plt.ylabel('Latent Dimension 2')\n",
    "plt.title('Uncorrected')\n",
    "plt.show()"
   ]
  },
  {
   "cell_type": "code",
   "execution_count": 24,
   "metadata": {},
   "outputs": [
    {
     "data": {
      "image/png": "[encoded data removed]",
      "text/plain": [
       "<Figure size 921.6x633.6 with 1 Axes>"
      ]
     },
     "metadata": {
      "needs_background": "light"
     },
     "output_type": "display_data"
    }
   ],
   "source": [
    "for i in dat_genders.unique():\n",
    "    mask = dat_genders == i\n",
    "    mask = mask[mm]\n",
    "    mask = np.array(mask.values, dtype = bool)\n",
    "    plt.scatter(fit2['x_mean'][mask,1], fit2['x_mean'][mask,2], s = 5.0, label = i)\n",
    "plt.legend()\n",
    "plt.title('Corrected for Chip and Gender')\n",
    "plt.xlabel('Latent Dimension 1')\n",
    "plt.ylabel('Latent Dimension 2')\n",
    "plt.show()"
   ]
  },
  {
   "cell_type": "code",
   "execution_count": 25,
   "metadata": {},
   "outputs": [
    {
     "data": {
      "image/png": "[encoded data removed]",
      "text/plain": [
       "<Figure size 921.6x633.6 with 1 Axes>"
      ]
     },
     "metadata": {
      "needs_background": "light"
     },
     "output_type": "display_data"
    }
   ],
   "source": [
    "for i in dat_genders.unique():\n",
    "    mask = dat_genders == i\n",
    "    mask = mask[mm]\n",
    "    mask = np.array(mask.values, dtype = bool)\n",
    "    plt.scatter(fit3['x_mean'][mask,1], fit3['x_mean'][mask,2], s = 5.0, label = i)\n",
    "plt.legend()\n",
    "plt.title('Corrected for Chip and Gender')\n",
    "plt.xlabel('Latent Dimension 1')\n",
    "plt.ylabel('Latent Dimension 2')\n",
    "plt.show()"
   ]
  },
  {
   "cell_type": "code",
   "execution_count": 26,
   "metadata": {},
   "outputs": [],
   "source": [
    "from sklearn import metrics"
   ]
  },
  {
   "cell_type": "code",
   "execution_count": 27,
   "metadata": {},
   "outputs": [],
   "source": [
    "# for j in range(0,10):\n",
    "#     for k in range(j,10):\n",
    "#         for i in dat_genders.unique():\n",
    "#             mask = dat_genders == i\n",
    "#             mask = mask[mm]\n",
    "#             mask = np.array(mask.values, dtype = bool)\n",
    "#             plt.scatter(fit['x_mean'][mask,j], fit['x_mean'][mask,k], s = 3.0, label = i)\n",
    "#         plt.legend()\n",
    "#         plt.show()"
   ]
  },
  {
   "cell_type": "code",
   "execution_count": null,
   "metadata": {},
   "outputs": [],
   "source": []
  },
  {
   "cell_type": "code",
   "execution_count": null,
   "metadata": {},
   "outputs": [],
   "source": []
  },
  {
   "cell_type": "code",
   "execution_count": 28,
   "metadata": {},
   "outputs": [],
   "source": [
    "from sklearn.linear_model import LogisticRegression"
   ]
  },
  {
   "cell_type": "code",
   "execution_count": 29,
   "metadata": {},
   "outputs": [],
   "source": [
    "y = np.array(dat_genders == 'Male')"
   ]
  },
  {
   "cell_type": "code",
   "execution_count": 30,
   "metadata": {},
   "outputs": [
    {
     "name": "stderr",
     "output_type": "stream",
     "text": [
      "/Users/architverma/anaconda/lib/python2.7/site-packages/sklearn/linear_model/logistic.py:433: FutureWarning: Default solver will be changed to 'lbfgs' in 0.22. Specify a solver to silence this warning.\n",
      "  FutureWarning)\n"
     ]
    },
    {
     "data": {
      "text/plain": [
       "1.0"
      ]
     },
     "execution_count": 30,
     "metadata": {},
     "output_type": "execute_result"
    }
   ],
   "source": [
    "lr_counts = LogisticRegression()\n",
    "lr_counts.fit(counts_mat[:,mm].T, y[mm])\n",
    "lr_counts.score(counts_mat[:,mm].T, y[mm])\n",
    "predicted = lr_counts.predict_proba(counts_mat[:,mm].T)\n",
    "metrics.roc_auc_score(y[mm], predicted[:,1])"
   ]
  },
  {
   "cell_type": "code",
   "execution_count": 31,
   "metadata": {},
   "outputs": [
    {
     "data": {
      "text/plain": [
       "0.7342623352127308"
      ]
     },
     "execution_count": 31,
     "metadata": {},
     "output_type": "execute_result"
    }
   ],
   "source": [
    "lr_fit = LogisticRegression()\n",
    "lr_fit.fit(fit['x_mean'], y[mm])\n",
    "lr_fit.score(fit['x_mean'], y[mm])\n",
    "predicted = lr_fit.predict_proba(fit['x_mean'])\n",
    "metrics.roc_auc_score(y[mm], predicted[:,1])"
   ]
  },
  {
   "cell_type": "code",
   "execution_count": 32,
   "metadata": {},
   "outputs": [
    {
     "data": {
      "text/plain": [
       "0.5307296905558843"
      ]
     },
     "execution_count": 32,
     "metadata": {},
     "output_type": "execute_result"
    }
   ],
   "source": [
    "lr_fit = LogisticRegression()\n",
    "lr_fit.fit(fit['x_mean'][:,[0,7,8]], y[mm])\n",
    "lr_fit.score(fit['x_mean'][:,[0,7,8]], y[mm])\n",
    "predicted = lr_fit.predict_proba(fit['x_mean'][:,[0,7,8]])\n",
    "metrics.roc_auc_score(y[mm], predicted[:,1])"
   ]
  },
  {
   "cell_type": "code",
   "execution_count": 33,
   "metadata": {},
   "outputs": [
    {
     "data": {
      "text/plain": [
       "0.42653376455382225"
      ]
     },
     "execution_count": 33,
     "metadata": {},
     "output_type": "execute_result"
    }
   ],
   "source": [
    "lr_fit2 = LogisticRegression()\n",
    "lr_fit2.fit(fit2['x_mean'], y[mm])\n",
    "lr_fit2.score(fit2['x_mean'], y[mm])\n",
    "predicted = lr_fit2.predict_proba(fit['x_mean'])\n",
    "metrics.roc_auc_score(y[mm], predicted[:,1])"
   ]
  },
  {
   "cell_type": "code",
   "execution_count": 34,
   "metadata": {},
   "outputs": [
    {
     "data": {
      "text/plain": [
       "0.5450282537296335"
      ]
     },
     "execution_count": 34,
     "metadata": {},
     "output_type": "execute_result"
    }
   ],
   "source": [
    "lr_fit2 = LogisticRegression()\n",
    "lr_fit2.fit(fit3['x_mean'], y[mm])\n",
    "lr_fit2.score(fit3['x_mean'], y[mm])\n",
    "predicted = lr_fit2.predict_proba(fit['x_mean'])\n",
    "metrics.roc_auc_score(y[mm], predicted[:,1])"
   ]
  },
  {
   "cell_type": "code",
   "execution_count": null,
   "metadata": {},
   "outputs": [],
   "source": []
  },
  {
   "cell_type": "code",
   "execution_count": 35,
   "metadata": {},
   "outputs": [
    {
     "data": {
      "text/plain": [
       "0.4975588233601826"
      ]
     },
     "execution_count": 35,
     "metadata": {},
     "output_type": "execute_result"
    }
   ],
   "source": [
    "dims = np.sort([8, 7, 0])\n",
    "lr_fit2 = LogisticRegression()\n",
    "lr_fit2.fit(fit2['x_mean'][:,dims], y[mm])\n",
    "lr_fit2.score(fit2['x_mean'][:,dims], y[mm])\n",
    "predicted = lr_fit2.predict_proba(fit['x_mean'][:,dims])\n",
    "metrics.roc_auc_score(y[mm], predicted[:,1])"
   ]
  },
  {
   "cell_type": "code",
   "execution_count": null,
   "metadata": {},
   "outputs": [],
   "source": []
  },
  {
   "cell_type": "code",
   "execution_count": 36,
   "metadata": {},
   "outputs": [
    {
     "data": {
      "image/png": "[encoded data removed]",
      "text/plain": [
       "<Figure size 921.6x633.6 with 1 Axes>"
      ]
     },
     "metadata": {
      "needs_background": "light"
     },
     "output_type": "display_data"
    }
   ],
   "source": [
    "plt.hist(predicted[:,1], bins = 100)\n",
    "plt.show()"
   ]
  },
  {
   "cell_type": "code",
   "execution_count": 37,
   "metadata": {},
   "outputs": [],
   "source": [
    "cmales = counts_mat_post.T[predicted[:,1] > 0.55]"
   ]
  },
  {
   "cell_type": "code",
   "execution_count": 38,
   "metadata": {},
   "outputs": [],
   "source": [
    "cfemale = counts_mat_post.T[predicted[:,1] < 0.30]"
   ]
  },
  {
   "cell_type": "code",
   "execution_count": 39,
   "metadata": {},
   "outputs": [
    {
     "ename": "NameError",
     "evalue": "name 'ttest_ind' is not defined",
     "output_type": "error",
     "traceback": [
      "\u001b[0;31m---------------------------------------------------------------------------\u001b[0m",
      "\u001b[0;31mNameError\u001b[0m                                 Traceback (most recent call last)",
      "\u001b[0;32m<ipython-input-39-8084893f8fd2>\u001b[0m in \u001b[0;36m<module>\u001b[0;34m()\u001b[0m\n\u001b[0;32m----> 1\u001b[0;31m \u001b[0mgender_diff\u001b[0m \u001b[0;34m=\u001b[0m \u001b[0mttest_ind\u001b[0m\u001b[0;34m(\u001b[0m\u001b[0mcmales\u001b[0m\u001b[0;34m,\u001b[0m \u001b[0mcfemale\u001b[0m\u001b[0;34m,\u001b[0m \u001b[0mequal_var\u001b[0m \u001b[0;34m=\u001b[0m \u001b[0mFalse\u001b[0m\u001b[0;34m)\u001b[0m\u001b[0;34m\u001b[0m\u001b[0m\n\u001b[0m",
      "\u001b[0;31mNameError\u001b[0m: name 'ttest_ind' is not defined"
     ]
    }
   ],
   "source": [
    "gender_diff = ttest_ind(cmales, cfemale, equal_var = False)"
   ]
  },
  {
   "cell_type": "code",
   "execution_count": null,
   "metadata": {},
   "outputs": [],
   "source": [
    "np.sum(gender_diff[1] < 1e-9)"
   ]
  },
  {
   "cell_type": "code",
   "execution_count": null,
   "metadata": {},
   "outputs": [],
   "source": []
  },
  {
   "cell_type": "code",
   "execution_count": null,
   "metadata": {},
   "outputs": [],
   "source": [
    "for i in np.where(gender_diff[1] < 1e-9)[0]:\n",
    "    print(genes[i]['symbol'])\n",
    "    print(gender_diff[0][i])"
   ]
  },
  {
   "cell_type": "code",
   "execution_count": null,
   "metadata": {},
   "outputs": [],
   "source": [
    "not_clear = counts_mat_post.T[predicted[:,1] < 0.55]\n",
    "gender_diff = ttest_ind(cmales, not_clear, equal_var = False)"
   ]
  },
  {
   "cell_type": "code",
   "execution_count": null,
   "metadata": {},
   "outputs": [],
   "source": [
    "for i in np.where(gender_diff[1] < 1e-200)[0]:\n",
    "    print(genes[i]['symbol'])\n",
    "    print(gender_diff[0][i])"
   ]
  },
  {
   "cell_type": "code",
   "execution_count": null,
   "metadata": {},
   "outputs": [],
   "source": [
    "plt.scatter(fit2['x_mean'][:,0], fit2['x_mean'][:,7], s = 5.0, c = predicted[:,0])\n",
    "plt.colorbar()\n",
    "plt.show()"
   ]
  },
  {
   "cell_type": "code",
   "execution_count": null,
   "metadata": {},
   "outputs": [],
   "source": [
    "for i in dat_genders.unique():\n",
    "    mask = dat_genders == i\n",
    "    mask = mask[mm]\n",
    "    mask = np.array(mask.values, dtype = bool)\n",
    "    plt.scatter(fit2['x_mean'][mask,0], fit2['x_mean'][mask,7], s = 5.0, label = i)\n",
    "plt.legend()\n",
    "plt.show()"
   ]
  },
  {
   "cell_type": "code",
   "execution_count": null,
   "metadata": {},
   "outputs": [],
   "source": [
    "np.argsort(np.sum(fit3['lengthscales'][0:10,0:2], axis = 1))"
   ]
  },
  {
   "cell_type": "code",
   "execution_count": null,
   "metadata": {},
   "outputs": [],
   "source": [
    "np.argsort(np.sum(fit2['lengthscales'][0:10,0:2], axis = 1))"
   ]
  },
  {
   "cell_type": "code",
   "execution_count": null,
   "metadata": {},
   "outputs": [],
   "source": [
    "np.argsort(np.sum(fit['lengthscales'][0:10,0:2], axis = 1))"
   ]
  },
  {
   "cell_type": "code",
   "execution_count": null,
   "metadata": {},
   "outputs": [],
   "source": [
    "# plt.style.use('seaborn-poster')\n",
    "# for j in range(0,10):\n",
    "#     for k in range(j,10):\n",
    "#         for i in dat_genders.unique():\n",
    "#             mask = dat_genders == i\n",
    "#             mask = mask[mm]\n",
    "#             mask = np.array(mask.values, dtype = bool)\n",
    "#             plt.subplot(121)\n",
    "#             plt.scatter(fit['x_mean'][mask,j], fit['x_mean'][mask,k], s = 3.0, label = i)\n",
    "#             plt.subplot(122)\n",
    "#             plt.scatter(fit2['x_mean'][mask,j], fit2['x_mean'][mask,k], s = 3.0, label = i)\n",
    "#         plt.legend()\n",
    "#         plt.show()"
   ]
  },
  {
   "cell_type": "code",
   "execution_count": null,
   "metadata": {},
   "outputs": [],
   "source": [
    "# plt.style.use('seaborn-poster')\n",
    "# j = 0\n",
    "# k = 8\n",
    "# for i in dat_genders.unique():\n",
    "#     mask = dat_genders == i\n",
    "#     mask = mask[mm]\n",
    "#     mask = np.array(mask.values, dtype = bool)\n",
    "#     plt.subplot(121)\n",
    "#     plt.scatter(fit['x_mean'][mask,j], fit['x_mean'][mask,k], s = 3.0, label = i)\n",
    "#     plt.subplot(122)\n",
    "#     plt.scatter(fit2['x_mean'][mask,j], fit2['x_mean'][mask,k], s = 3.0, label = i)\n",
    "# plt.legend()\n",
    "# plt.show()"
   ]
  },
  {
   "cell_type": "code",
   "execution_count": null,
   "metadata": {},
   "outputs": [],
   "source": [
    "from sklearn.decomposition import PCA\n",
    "from sklearn.linear_model import LinearRegression"
   ]
  },
  {
   "cell_type": "code",
   "execution_count": null,
   "metadata": {},
   "outputs": [],
   "source": [
    "process = h5py.File('gilad_processed.hdf5','r')\n",
    "z = np.hstack((process['z_c1'],np.expand_dims(y[mm],axis = 1)))"
   ]
  },
  {
   "cell_type": "code",
   "execution_count": null,
   "metadata": {},
   "outputs": [],
   "source": [
    "ols = LinearRegression()"
   ]
  },
  {
   "cell_type": "code",
   "execution_count": null,
   "metadata": {},
   "outputs": [],
   "source": [
    "ols.fit(z, counts_mat_post.T)"
   ]
  },
  {
   "cell_type": "code",
   "execution_count": null,
   "metadata": {},
   "outputs": [],
   "source": [
    "yres = counts_mat_post.T - ols.predict(z)"
   ]
  },
  {
   "cell_type": "code",
   "execution_count": null,
   "metadata": {},
   "outputs": [],
   "source": [
    "pca = PCA(n_components = 10)\n",
    "zres = pca.fit_transform(yres)"
   ]
  },
  {
   "cell_type": "code",
   "execution_count": null,
   "metadata": {},
   "outputs": [],
   "source": [
    "np.sum(pca.explained_variance_ratio_)"
   ]
  },
  {
   "cell_type": "code",
   "execution_count": null,
   "metadata": {},
   "outputs": [],
   "source": [
    "lr_yres = LogisticRegression()\n",
    "lr_yres.fit(zres, y[mm])\n",
    "lr_yres.score(zres, y[mm])\n",
    "predicted = lr_yres.predict_proba(zres)\n",
    "metrics.roc_auc_score(y[mm], predicted[:,1])"
   ]
  },
  {
   "cell_type": "code",
   "execution_count": null,
   "metadata": {},
   "outputs": [],
   "source": [
    "pca = PCA(n_components = 200)\n",
    "zres = pca.fit_transform(yres)\n",
    "print(np.sum(pca.explained_variance_ratio_))\n",
    "lr_yres = LogisticRegression()\n",
    "lr_yres.fit(zres, y[mm])\n",
    "lr_yres.score(zres, y[mm])\n",
    "predicted = lr_yres.predict_proba(zres)\n",
    "metrics.roc_auc_score(y[mm], predicted[:,1])"
   ]
  },
  {
   "cell_type": "code",
   "execution_count": null,
   "metadata": {},
   "outputs": [],
   "source": [
    "pca = PCA(n_components = 1000)\n",
    "zres = pca.fit_transform(yres)\n",
    "print(np.sum(pca.explained_variance_ratio_))\n",
    "lr_yres = LogisticRegression()\n",
    "lr_yres.fit(zres, y[mm])\n",
    "lr_yres.score(zres, y[mm])\n",
    "predicted = lr_yres.predict_proba(zres)\n",
    "metrics.roc_auc_score(y[mm], predicted[:,1])"
   ]
  },
  {
   "cell_type": "code",
   "execution_count": null,
   "metadata": {},
   "outputs": [],
   "source": [
    "import GPy\n",
    "from IPython.display import display"
   ]
  },
  {
   "cell_type": "code",
   "execution_count": null,
   "metadata": {},
   "outputs": [],
   "source": [
    "kernel = GPy.kern.RBF(input_dim=z.shape[1])"
   ]
  },
  {
   "cell_type": "code",
   "execution_count": null,
   "metadata": {},
   "outputs": [],
   "source": [
    "# m = GPy.models.GPRegression(z,counts_mat_post.T,kernel)\n",
    "# m.optimize()"
   ]
  },
  {
   "cell_type": "code",
   "execution_count": null,
   "metadata": {},
   "outputs": [],
   "source": [
    "# corrected_zero = m.predict(z)"
   ]
  },
  {
   "cell_type": "code",
   "execution_count": null,
   "metadata": {},
   "outputs": [],
   "source": [
    "# gpres = counts_mat_post.T - corrected_zero[0]"
   ]
  },
  {
   "cell_type": "code",
   "execution_count": null,
   "metadata": {},
   "outputs": [],
   "source": [
    "# gpres.shape"
   ]
  },
  {
   "cell_type": "code",
   "execution_count": null,
   "metadata": {},
   "outputs": [],
   "source": [
    "# pca = PCA(n_components = 1000)\n",
    "# zres = pca.fit_transform(gpres)\n",
    "# # np.sum(pca.explained_variance_ratio_)"
   ]
  },
  {
   "cell_type": "code",
   "execution_count": null,
   "metadata": {},
   "outputs": [],
   "source": [
    "# lr_gpres = LogisticRegression()\n",
    "# lr_gpres.fit(zres, y[mm])\n",
    "# lr_gpres.score(zres, y[mm])"
   ]
  },
  {
   "cell_type": "code",
   "execution_count": null,
   "metadata": {},
   "outputs": [],
   "source": []
  },
  {
   "cell_type": "markdown",
   "metadata": {},
   "source": [
    "Marker Genes"
   ]
  },
  {
   "cell_type": "code",
   "execution_count": null,
   "metadata": {},
   "outputs": [],
   "source": [
    "# https://www.abcam.com/primary-antibodies/b-cells-basic-immunophenotyping"
   ]
  },
  {
   "cell_type": "code",
   "execution_count": null,
   "metadata": {},
   "outputs": [],
   "source": [
    "import mygene"
   ]
  },
  {
   "cell_type": "code",
   "execution_count": null,
   "metadata": {},
   "outputs": [],
   "source": [
    "gene_var = np.var(counts_mat_post, axis = 1)"
   ]
  },
  {
   "cell_type": "code",
   "execution_count": null,
   "metadata": {},
   "outputs": [],
   "source": [
    "gene_mean = np.mean(counts_mat_post, axis = 1)"
   ]
  },
  {
   "cell_type": "code",
   "execution_count": null,
   "metadata": {},
   "outputs": [],
   "source": [
    "argsort_var = np.argsort(gene_var)"
   ]
  },
  {
   "cell_type": "code",
   "execution_count": null,
   "metadata": {},
   "outputs": [],
   "source": [
    "argsort_mean = np.argsort(gene_mean)"
   ]
  },
  {
   "cell_type": "code",
   "execution_count": null,
   "metadata": {},
   "outputs": [],
   "source": [
    "mg = mygene.MyGeneInfo()"
   ]
  },
  {
   "cell_type": "code",
   "execution_count": null,
   "metadata": {},
   "outputs": [],
   "source": [
    "genes = mg.querymany(counts['gene'].values, scopes = 'ensembl.gene', fields = 'symbol', species = 'human')"
   ]
  },
  {
   "cell_type": "code",
   "execution_count": null,
   "metadata": {},
   "outputs": [],
   "source": [
    "from scipy.stats import variation"
   ]
  },
  {
   "cell_type": "code",
   "execution_count": null,
   "metadata": {},
   "outputs": [],
   "source": [
    "genes_cv = variation(counts_mat_post, axis = 1)"
   ]
  },
  {
   "cell_type": "code",
   "execution_count": null,
   "metadata": {},
   "outputs": [],
   "source": [
    "argsort_cv = np.argsort(genes_cv)"
   ]
  },
  {
   "cell_type": "code",
   "execution_count": null,
   "metadata": {},
   "outputs": [],
   "source": [
    "argsort_is_nan = True\n",
    "lastix = 1;\n",
    "while argsort_is_nan:\n",
    "    argsort_is_nan = np.isnan(genes_cv[argsort_cv[-lastix]])\n",
    "    lastix += 1"
   ]
  },
  {
   "cell_type": "code",
   "execution_count": null,
   "metadata": {},
   "outputs": [],
   "source": []
  },
  {
   "cell_type": "code",
   "execution_count": null,
   "metadata": {},
   "outputs": [],
   "source": [
    "mask = np.zeros(len(genes))\n",
    "for i in range(len(genes)):\n",
    "    try:\n",
    "        mask[i] = 'CD' in genes[i]['symbol']\n",
    "    except:\n",
    "        mask[i] = False"
   ]
  },
  {
   "cell_type": "code",
   "execution_count": null,
   "metadata": {},
   "outputs": [],
   "source": [
    "#for i in np.where(mask)[0]:\n",
    "#    print(str(i) + ': ' + genes[i]['symbol'])"
   ]
  },
  {
   "cell_type": "code",
   "execution_count": null,
   "metadata": {},
   "outputs": [],
   "source": [
    "markers = ['CD19', 'CD27', 'CD38', 'CD40', 'CD80', 'CD1D', 'CD1A', 'CD1C', 'CD1B', 'CD1E', 'CD22', 'CD5L']\n",
    "ixs = [14077, 7739, 49, 2419, 10158, 10159, 10161, 10163, 10165, 312, 1240]\n",
    "celltype = ['Activated B Cell', 'Plasma Cell', 'Plasma Cell', 'Memory Cell', 'Memory Cell', \n",
    "            'Marginal zone B cells', 'Marginal zone B cells', 'Marginal zone B cells', 'Marginal zone B cells', 'Marginal zone B cells',\n",
    "           'Follicular B Cells', 'Regulatory B Cells']"
   ]
  },
  {
   "cell_type": "code",
   "execution_count": null,
   "metadata": {},
   "outputs": [],
   "source": []
  },
  {
   "cell_type": "code",
   "execution_count": null,
   "metadata": {},
   "outputs": [],
   "source": [
    "import umap"
   ]
  },
  {
   "cell_type": "code",
   "execution_count": null,
   "metadata": {},
   "outputs": [],
   "source": [
    "reducer = umap.UMAP()"
   ]
  },
  {
   "cell_type": "code",
   "execution_count": null,
   "metadata": {},
   "outputs": [],
   "source": [
    "embedding = reducer.fit_transform(fit['x_mean'])"
   ]
  },
  {
   "cell_type": "code",
   "execution_count": null,
   "metadata": {},
   "outputs": [],
   "source": [
    "for i in dat_genders.unique():\n",
    "    mask = dat_genders == i\n",
    "    mask = mask[mm]\n",
    "    mask = np.array(mask.values, dtype = bool)\n",
    "    plt.scatter(embedding[mask,0], embedding[mask,1], s = 5.0, label = i)\n",
    "plt.legend()\n",
    "plt.show()"
   ]
  },
  {
   "cell_type": "code",
   "execution_count": null,
   "metadata": {},
   "outputs": [],
   "source": [
    "embedding2 = reducer.fit_transform(fit2['x_mean'])"
   ]
  },
  {
   "cell_type": "code",
   "execution_count": null,
   "metadata": {},
   "outputs": [],
   "source": [
    "for i in dat_genders.unique():\n",
    "    mask = dat_genders == i\n",
    "    mask = mask[mm]\n",
    "    mask = np.array(mask.values, dtype = bool)\n",
    "    plt.scatter(embedding2[mask,0], embedding2[mask,1], s = 5.0, label = i)\n",
    "plt.legend()\n",
    "plt.show()"
   ]
  },
  {
   "cell_type": "code",
   "execution_count": null,
   "metadata": {},
   "outputs": [],
   "source": [
    "embedding3 = reducer.fit_transform(fit3['x_mean'])"
   ]
  },
  {
   "cell_type": "code",
   "execution_count": null,
   "metadata": {},
   "outputs": [],
   "source": [
    "plt.style.use('seaborn-poster')\n",
    "for i in range(len(ixs)):\n",
    "    plt.scatter(embedding2[:,0], embedding2[:, 1], c = counts_mat_post[i,:], cmap = 'Reds', s= 5.0)\n",
    "    plt.title(markers[i])\n",
    "    plt.colorbar()\n",
    "    plt.show()"
   ]
  },
  {
   "cell_type": "code",
   "execution_count": null,
   "metadata": {},
   "outputs": [],
   "source": [
    "plt.style.use('seaborn-poster')\n",
    "for i in range(len(ixs)):\n",
    "    plt.scatter(embedding3[:,0], embedding3[:, 1], c = counts_mat_post[i,:], cmap = 'Reds', s= 5.0)\n",
    "    plt.title(markers[i])\n",
    "    plt.colorbar()\n",
    "    plt.show()"
   ]
  },
  {
   "cell_type": "code",
   "execution_count": null,
   "metadata": {},
   "outputs": [],
   "source": [
    "for i in range(1,6):\n",
    "    plt.scatter(embedding2[:,0], embedding2[:, 1], c = counts_mat_post[argsort_var[-i],:], cmap = 'Reds', s= 5.0)\n",
    "    plt.title(genes[argsort_var[-i]]['symbol'])\n",
    "    plt.colorbar()\n",
    "    plt.show()"
   ]
  },
  {
   "cell_type": "code",
   "execution_count": null,
   "metadata": {},
   "outputs": [],
   "source": [
    "from sklearn.cluster import KMeans"
   ]
  },
  {
   "cell_type": "code",
   "execution_count": null,
   "metadata": {},
   "outputs": [],
   "source": [
    "kmeans = KMeans(n_clusters = 2)"
   ]
  },
  {
   "cell_type": "code",
   "execution_count": null,
   "metadata": {},
   "outputs": [],
   "source": [
    "c2 = kmeans.fit_predict(fit2['x_mean'])"
   ]
  },
  {
   "cell_type": "code",
   "execution_count": null,
   "metadata": {},
   "outputs": [],
   "source": [
    "for i in range(np.max(c2) + 1):\n",
    "    mask = c2 == i\n",
    "    plt.scatter(embedding3[mask,0], embedding3[mask, 1], s= 5.0)\n",
    "plt.show()"
   ]
  },
  {
   "cell_type": "code",
   "execution_count": null,
   "metadata": {},
   "outputs": [],
   "source": [
    "mask1 = c2 == 1"
   ]
  },
  {
   "cell_type": "code",
   "execution_count": null,
   "metadata": {},
   "outputs": [],
   "source": [
    "counts1 = counts_mat_post[:, mask1]\n",
    "counts0 = counts_mat_post[:, np.logical_not(mask1)]"
   ]
  },
  {
   "cell_type": "code",
   "execution_count": null,
   "metadata": {},
   "outputs": [],
   "source": [
    "diff = np.mean(counts0, axis = 1) - np.mean(counts1, axis = 1)"
   ]
  },
  {
   "cell_type": "code",
   "execution_count": null,
   "metadata": {},
   "outputs": [],
   "source": [
    "sort_diff = np.argsort(np.abs(diff))"
   ]
  },
  {
   "cell_type": "code",
   "execution_count": null,
   "metadata": {},
   "outputs": [],
   "source": [
    "for i in np.where(np.abs(diff) > 100)[0]:\n",
    "    plt.scatter(embedding2[:,0], embedding2[:, 1], c = counts_mat_post[i,:], cmap = 'Reds', s= 5.0)\n",
    "    plt.title(genes[i]['symbol'])\n",
    "    plt.colorbar()\n",
    "    plt.show()"
   ]
  },
  {
   "cell_type": "code",
   "execution_count": null,
   "metadata": {},
   "outputs": [],
   "source": [
    "for i in range(1,11):\n",
    "    cix = argsort_cv[-(lastix + i)]\n",
    "    plt.scatter(embedding2[:,0], embedding2[:, 1], c = counts_mat_post[cix,:], cmap = 'Reds', s= 5.0)\n",
    "    plt.title(genes[cix]['symbol'])\n",
    "    plt.colorbar()\n",
    "    plt.show()"
   ]
  },
  {
   "cell_type": "code",
   "execution_count": null,
   "metadata": {},
   "outputs": [],
   "source": [
    "genes_cv[argsort_cv[-448]]"
   ]
  },
  {
   "cell_type": "code",
   "execution_count": null,
   "metadata": {},
   "outputs": [],
   "source": [
    "genes[argsort_cv[-448]]['symbol']"
   ]
  },
  {
   "cell_type": "code",
   "execution_count": null,
   "metadata": {},
   "outputs": [],
   "source": [
    "plt.scatter(gene_mean, np.sqrt(gene_var), s = 5.0)\n",
    "plt.show()"
   ]
  },
  {
   "cell_type": "code",
   "execution_count": null,
   "metadata": {},
   "outputs": [],
   "source": [
    "counts[counts['gene'] == 'ENSG00000229807']"
   ]
  },
  {
   "cell_type": "code",
   "execution_count": null,
   "metadata": {},
   "outputs": [],
   "source": [
    "for i in range(len(genes)):\n",
    "    try:\n",
    "        found = genes[i]['symbol'] == 'RPS4Y1'\n",
    "        if found:\n",
    "            print(i)\n",
    "    except:\n",
    "        found = False"
   ]
  },
  {
   "cell_type": "code",
   "execution_count": null,
   "metadata": {},
   "outputs": [],
   "source": [
    "cix = 6141\n",
    "plt.scatter(embedding2[:,0], embedding2[:, 1], c = counts_mat_post[cix,:], cmap = 'Reds', s= 5.0)\n",
    "plt.title(genes[cix]['symbol'])\n",
    "plt.colorbar()\n",
    "plt.show()"
   ]
  },
  {
   "cell_type": "code",
   "execution_count": null,
   "metadata": {},
   "outputs": [],
   "source": [
    "cix = ixs[0]\n",
    "c = np.log2(1 + counts_mat_post[cix,:])\n",
    "for j in range(0,10):\n",
    "    for k in range(j,10):\n",
    "        plt.subplot(131)\n",
    "        plt.scatter(fit['x_mean'][:,j], fit['x_mean'][:,k], c = c, cmap = 'Reds', s = 5.0)\n",
    "        plt.subplot(132)\n",
    "        plt.scatter(fit2['x_mean'][:,j], fit2['x_mean'][:,k], c = c, cmap = 'Reds', s = 5.0)\n",
    "        plt.subplot(133)\n",
    "        plt.scatter(fit3['x_mean'][:,j], fit3['x_mean'][:,k], c = c, cmap = 'Reds', s = 5.0)\n",
    "        plt.colorbar()\n",
    "        plt.show()"
   ]
  },
  {
   "cell_type": "code",
   "execution_count": null,
   "metadata": {},
   "outputs": [],
   "source": []
  },
  {
   "cell_type": "code",
   "execution_count": null,
   "metadata": {},
   "outputs": [],
   "source": [
    "from scipy.stats import spearmanr"
   ]
  },
  {
   "cell_type": "code",
   "execution_count": null,
   "metadata": {},
   "outputs": [],
   "source": [
    "spearmans = spearmanr(fit['x_mean'][:,[7,8]], counts_mat_post.T)"
   ]
  },
  {
   "cell_type": "code",
   "execution_count": null,
   "metadata": {},
   "outputs": [],
   "source": [
    "sub = spearmans[0][0:2,2:]\n",
    "test = np.argsort(sub[0,:])\n",
    "counter = 0\n",
    "ix = 1\n",
    "while counter < 5:\n",
    "    if np.isnan(sub[0,test[-ix]]):\n",
    "        pass\n",
    "    else:\n",
    "        print(genes[test[-ix]]['symbol'])\n",
    "        print(test[-ix])\n",
    "        counter += 1\n",
    "    ix += 1"
   ]
  },
  {
   "cell_type": "code",
   "execution_count": null,
   "metadata": {},
   "outputs": [],
   "source": [
    "test = np.argsort(sub[1,:])\n",
    "counter = 0\n",
    "ix = 1\n",
    "while counter < 5:\n",
    "    if np.isnan(sub[0,test[-ix]]):\n",
    "        pass\n",
    "    else:\n",
    "        print(genes[test[-ix]]['symbol'])\n",
    "        print(test[-ix])\n",
    "        counter += 1\n",
    "    ix += 1"
   ]
  },
  {
   "cell_type": "code",
   "execution_count": null,
   "metadata": {},
   "outputs": [],
   "source": [
    "np.argsort(sub[0,])"
   ]
  },
  {
   "cell_type": "code",
   "execution_count": null,
   "metadata": {},
   "outputs": [],
   "source": [
    "test[-1]"
   ]
  },
  {
   "cell_type": "code",
   "execution_count": null,
   "metadata": {},
   "outputs": [],
   "source": [
    "ix"
   ]
  },
  {
   "cell_type": "code",
   "execution_count": null,
   "metadata": {},
   "outputs": [],
   "source": [
    "## posterior gene expression, compare manifold of genes in male vs female posterior"
   ]
  },
  {
   "cell_type": "code",
   "execution_count": null,
   "metadata": {},
   "outputs": [],
   "source": [
    "from sklearn.gaussian_process.kernels import Matern, RBF"
   ]
  },
  {
   "cell_type": "code",
   "execution_count": null,
   "metadata": {},
   "outputs": [],
   "source": [
    "def kernel(x1,x2, dims, z):\n",
    "    m12 = Matern(length_scale = z['lengthscales'][dims,1], nu = 0.5)\n",
    "    rbf = RBF(length_scale = z['lengthscales'][dims,0])\n",
    "    \n",
    "    m12eval = m12(x1[:,dims],x2[:,dims])\n",
    "    rbfeval = rbf(x1[:,dims],x2[:,dims])\n",
    "    \n",
    "    total = z['variances'][0]*np.array(rbfeval) + z['variances'][1]*m12eval\n",
    "    \n",
    "    return total"
   ]
  },
  {
   "cell_type": "code",
   "execution_count": null,
   "metadata": {},
   "outputs": [],
   "source": [
    "def impute(y, z, dims, fixed):\n",
    "    \n",
    "    N = y.shape[0]\n",
    "    \n",
    "    xu = z['xu']\n",
    "    zpost = np.concatenate((z['x_mean'],fixed),axis = 1)\n",
    "    #zpost.shape\n",
    "    \n",
    "    qkfu = kernel(zpost,xu, dims, z)\n",
    "    qkff = kernel(zpost,zpost, dims, z)\n",
    "    \n",
    "    kuupsi = np.linalg.inv(np.matmul(qkfu.T,qkfu))\n",
    "    kuu = kernel(xu,xu, dims,z)\n",
    "    kuukuupsi = np.matmul(kuu,kuupsi)\n",
    "    psiy = np.matmul(qkfu.T,1.+y)\n",
    "    qu = np.matmul(kuukuupsi,psiy).T\n",
    "    kuuinv = np.linalg.inv(kuu)\n",
    "    qkfukuuinv = np.matmul(qkfu,kuuinv)\n",
    "    #qkfukuuinv.shape\n",
    "    qkfukuuinvu = np.matmul(qkfukuuinv,qu.T)\n",
    "    return np.array(qkfukuuinvu)"
   ]
  },
  {
   "cell_type": "code",
   "execution_count": null,
   "metadata": {},
   "outputs": [],
   "source": [
    "y[mm]"
   ]
  },
  {
   "cell_type": "code",
   "execution_count": null,
   "metadata": {},
   "outputs": [],
   "source": [
    "male = counts_mat_post[:,y[mm]]\n",
    "female = counts_mat_post[:, np.logical_not(y[mm])]"
   ]
  },
  {
   "cell_type": "code",
   "execution_count": null,
   "metadata": {},
   "outputs": [],
   "source": [
    "from scipy.stats import ttest_ind"
   ]
  },
  {
   "cell_type": "code",
   "execution_count": null,
   "metadata": {},
   "outputs": [],
   "source": [
    "t, prob = ttest_ind(male,female,axis = 1, equal_var = False)"
   ]
  },
  {
   "cell_type": "code",
   "execution_count": null,
   "metadata": {},
   "outputs": [],
   "source": [
    "np.where(prob < 1e-100)[0]"
   ]
  },
  {
   "cell_type": "code",
   "execution_count": null,
   "metadata": {},
   "outputs": [],
   "source": [
    "genes[2567]['symbol']"
   ]
  },
  {
   "cell_type": "code",
   "execution_count": null,
   "metadata": {},
   "outputs": [],
   "source": [
    "genes[6141]['symbol']"
   ]
  },
  {
   "cell_type": "code",
   "execution_count": null,
   "metadata": {},
   "outputs": [],
   "source": [
    "genes[17171]['symbol']"
   ]
  },
  {
   "cell_type": "code",
   "execution_count": null,
   "metadata": {},
   "outputs": [],
   "source": [
    "plt.style.use('seaborn-poster')"
   ]
  },
  {
   "cell_type": "code",
   "execution_count": null,
   "metadata": {},
   "outputs": [],
   "source": [
    "ix1 = 991\n",
    "ix2 = 2567\n",
    "plt.scatter(male[ix1], male[ix2], c = 'b', s = 10.0, alpha = 0.5)\n",
    "plt.scatter(female[ix1], female[ix2], c = 'r', s = 10.0, alpha = 0.5)\n",
    "plt.xlabel(genes[ix1]['symbol'])\n",
    "plt.ylabel(genes[ix2]['symbol'])\n",
    "plt.show()"
   ]
  },
  {
   "cell_type": "code",
   "execution_count": null,
   "metadata": {},
   "outputs": [],
   "source": [
    "fixed_female = np.zeros((5597,1))\n",
    "fixed_male = np.ones((5597,1))"
   ]
  },
  {
   "cell_type": "code",
   "execution_count": null,
   "metadata": {},
   "outputs": [],
   "source": [
    "print(fit['lengthscales'][-1,:])\n",
    "print(np.mean(fit['lengthscales'][10:-1,:], axis = 0))\n",
    "print(fit['lengthscales'][0:10,:])"
   ]
  },
  {
   "cell_type": "code",
   "execution_count": null,
   "metadata": {},
   "outputs": [],
   "source": [
    "dims = range(10)"
   ]
  },
  {
   "cell_type": "code",
   "execution_count": null,
   "metadata": {},
   "outputs": [],
   "source": [
    "t_impute_male = impute(counts_mat_post.T, fit2, dims, fixed_male)\n",
    "t_impute_female = impute(counts_mat_post.T, fit2, dims, fixed_female)"
   ]
  },
  {
   "cell_type": "code",
   "execution_count": null,
   "metadata": {},
   "outputs": [],
   "source": [
    "ix1 = 991\n",
    "ix2 = 2567\n",
    "plt.scatter(t_impute_male[:,ix1], t_impute_male[:,ix2], c = 'b', s = 10.0, alpha = 0.5)\n",
    "plt.scatter(t_impute_female[:,ix1], t_impute_female[:,ix2], c = 'r', s = 10.0, alpha = 0.5)\n",
    "plt.xlabel(genes[ix1]['symbol'])\n",
    "plt.ylabel(genes[ix2]['symbol'])\n",
    "plt.show()"
   ]
  },
  {
   "cell_type": "code",
   "execution_count": null,
   "metadata": {},
   "outputs": [],
   "source": [
    "np.max(t_impute_male - counts_mat_post.T)"
   ]
  },
  {
   "cell_type": "code",
   "execution_count": null,
   "metadata": {},
   "outputs": [],
   "source": [
    "np.max(t_impute_female - counts_mat_post.T)"
   ]
  },
  {
   "cell_type": "code",
   "execution_count": null,
   "metadata": {},
   "outputs": [],
   "source": [
    "np.max(t_impute_female - t_impute_male)"
   ]
  },
  {
   "cell_type": "code",
   "execution_count": null,
   "metadata": {},
   "outputs": [],
   "source": [
    "t_impute_male[:,ix1]"
   ]
  },
  {
   "cell_type": "code",
   "execution_count": null,
   "metadata": {},
   "outputs": [],
   "source": [
    "fixed_test = 10*np.ones((5597,79))"
   ]
  },
  {
   "cell_type": "code",
   "execution_count": null,
   "metadata": {},
   "outputs": [],
   "source": [
    "t_impute_test = impute(counts_mat_post.T, fit2, dims, fixed_test)"
   ]
  },
  {
   "cell_type": "code",
   "execution_count": null,
   "metadata": {},
   "outputs": [],
   "source": [
    "diff_test = t_impute_test - t_impute_male"
   ]
  },
  {
   "cell_type": "code",
   "execution_count": null,
   "metadata": {},
   "outputs": [],
   "source": []
  },
  {
   "cell_type": "code",
   "execution_count": null,
   "metadata": {},
   "outputs": [],
   "source": []
  },
  {
   "cell_type": "code",
   "execution_count": null,
   "metadata": {},
   "outputs": [],
   "source": []
  },
  {
   "cell_type": "code",
   "execution_count": null,
   "metadata": {},
   "outputs": [],
   "source": []
  },
  {
   "cell_type": "code",
   "execution_count": null,
   "metadata": {},
   "outputs": [],
   "source": [
    "qx_mean = np.vstack(fit['x_mean'], "
   ]
  },
  {
   "cell_type": "code",
   "execution_count": null,
   "metadata": {},
   "outputs": [],
   "source": []
  },
  {
   "cell_type": "code",
   "execution_count": null,
   "metadata": {},
   "outputs": [],
   "source": []
  },
  {
   "cell_type": "code",
   "execution_count": null,
   "metadata": {},
   "outputs": [],
   "source": []
  },
  {
   "cell_type": "code",
   "execution_count": null,
   "metadata": {},
   "outputs": [],
   "source": []
  }
 ],
 "metadata": {
  "kernelspec": {
   "display_name": "Python 2",
   "language": "python",
   "name": "python2"
  },
  "language_info": {
   "codemirror_mode": {
    "name": "ipython",
    "version": 2
   },
   "file_extension": ".py",
   "mimetype": "text/x-python",
   "name": "python",
   "nbconvert_exporter": "python",
   "pygments_lexer": "ipython2",
   "version": "2.7.16"
  }
 },
 "nbformat": 4,
 "nbformat_minor": 2
}
