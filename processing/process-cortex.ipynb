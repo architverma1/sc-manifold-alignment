{
 "cells": [
  {
   "cell_type": "code",
   "execution_count": 1,
   "metadata": {},
   "outputs": [],
   "source": [
    "import pandas as pd\n",
    "import numpy as np"
   ]
  },
  {
   "cell_type": "code",
   "execution_count": 2,
   "metadata": {},
   "outputs": [],
   "source": [
    "x = pd.read_csv('./sourcedata/cortex_svz_cellcentroids.csv')"
   ]
  },
  {
   "cell_type": "code",
   "execution_count": 7,
   "metadata": {},
   "outputs": [
    {
     "data": {
      "text/plain": [
       "array(['Cortex', 'SVZ', 'Choroid Plexus'], dtype=object)"
      ]
     },
     "execution_count": 7,
     "metadata": {},
     "output_type": "execute_result"
    }
   ],
   "source": [
    "x['Region'].unique()"
   ]
  },
  {
   "cell_type": "code",
   "execution_count": 3,
   "metadata": {},
   "outputs": [],
   "source": [
    "y = pd.read_csv('./sourcedata/cortex_svz_counts.csv')"
   ]
  },
  {
   "cell_type": "code",
   "execution_count": 4,
   "metadata": {},
   "outputs": [
    {
     "data": {
      "text/html": [
       "<div>\n",
       "<style scoped>\n",
       "    .dataframe tbody tr th:only-of-type {\n",
       "        vertical-align: middle;\n",
       "    }\n",
       "\n",
       "    .dataframe tbody tr th {\n",
       "        vertical-align: top;\n",
       "    }\n",
       "\n",
       "    .dataframe thead th {\n",
       "        text-align: right;\n",
       "    }\n",
       "</style>\n",
       "<table border=\"1\" class=\"dataframe\">\n",
       "  <thead>\n",
       "    <tr style=\"text-align: right;\">\n",
       "      <th></th>\n",
       "      <th>1700022a21rik</th>\n",
       "      <th>1700025g04rik</th>\n",
       "      <th>4933401b06rik</th>\n",
       "      <th>5830417i10rik</th>\n",
       "      <th>9330102e08rik</th>\n",
       "      <th>9430018g01rik</th>\n",
       "      <th>9430083a17rik</th>\n",
       "      <th>Aanat</th>\n",
       "      <th>Aasdh</th>\n",
       "      <th>Aatf</th>\n",
       "      <th>...</th>\n",
       "      <th>Tyrp1</th>\n",
       "      <th>Ubqlnl</th>\n",
       "      <th>Ptgdr</th>\n",
       "      <th>P2ry4</th>\n",
       "      <th>Prdm6</th>\n",
       "      <th>Pde6b</th>\n",
       "      <th>Zp1</th>\n",
       "      <th>Dlx4</th>\n",
       "      <th>Opn1sw</th>\n",
       "      <th>Pramef12</th>\n",
       "    </tr>\n",
       "  </thead>\n",
       "  <tbody>\n",
       "    <tr>\n",
       "      <th>0</th>\n",
       "      <td>3</td>\n",
       "      <td>1</td>\n",
       "      <td>2</td>\n",
       "      <td>0</td>\n",
       "      <td>1</td>\n",
       "      <td>1</td>\n",
       "      <td>1</td>\n",
       "      <td>0</td>\n",
       "      <td>2</td>\n",
       "      <td>0</td>\n",
       "      <td>...</td>\n",
       "      <td>0</td>\n",
       "      <td>0</td>\n",
       "      <td>1</td>\n",
       "      <td>0</td>\n",
       "      <td>0</td>\n",
       "      <td>0</td>\n",
       "      <td>0</td>\n",
       "      <td>0</td>\n",
       "      <td>0</td>\n",
       "      <td>1</td>\n",
       "    </tr>\n",
       "    <tr>\n",
       "      <th>1</th>\n",
       "      <td>1</td>\n",
       "      <td>0</td>\n",
       "      <td>0</td>\n",
       "      <td>0</td>\n",
       "      <td>0</td>\n",
       "      <td>0</td>\n",
       "      <td>0</td>\n",
       "      <td>0</td>\n",
       "      <td>0</td>\n",
       "      <td>0</td>\n",
       "      <td>...</td>\n",
       "      <td>1</td>\n",
       "      <td>1</td>\n",
       "      <td>0</td>\n",
       "      <td>1</td>\n",
       "      <td>1</td>\n",
       "      <td>0</td>\n",
       "      <td>0</td>\n",
       "      <td>0</td>\n",
       "      <td>0</td>\n",
       "      <td>0</td>\n",
       "    </tr>\n",
       "    <tr>\n",
       "      <th>2</th>\n",
       "      <td>0</td>\n",
       "      <td>0</td>\n",
       "      <td>1</td>\n",
       "      <td>1</td>\n",
       "      <td>0</td>\n",
       "      <td>0</td>\n",
       "      <td>0</td>\n",
       "      <td>0</td>\n",
       "      <td>0</td>\n",
       "      <td>0</td>\n",
       "      <td>...</td>\n",
       "      <td>2</td>\n",
       "      <td>2</td>\n",
       "      <td>1</td>\n",
       "      <td>1</td>\n",
       "      <td>0</td>\n",
       "      <td>0</td>\n",
       "      <td>1</td>\n",
       "      <td>0</td>\n",
       "      <td>1</td>\n",
       "      <td>0</td>\n",
       "    </tr>\n",
       "    <tr>\n",
       "      <th>3</th>\n",
       "      <td>0</td>\n",
       "      <td>0</td>\n",
       "      <td>0</td>\n",
       "      <td>0</td>\n",
       "      <td>0</td>\n",
       "      <td>0</td>\n",
       "      <td>0</td>\n",
       "      <td>0</td>\n",
       "      <td>0</td>\n",
       "      <td>1</td>\n",
       "      <td>...</td>\n",
       "      <td>0</td>\n",
       "      <td>0</td>\n",
       "      <td>0</td>\n",
       "      <td>0</td>\n",
       "      <td>0</td>\n",
       "      <td>0</td>\n",
       "      <td>0</td>\n",
       "      <td>0</td>\n",
       "      <td>0</td>\n",
       "      <td>0</td>\n",
       "    </tr>\n",
       "    <tr>\n",
       "      <th>4</th>\n",
       "      <td>0</td>\n",
       "      <td>0</td>\n",
       "      <td>0</td>\n",
       "      <td>1</td>\n",
       "      <td>0</td>\n",
       "      <td>1</td>\n",
       "      <td>1</td>\n",
       "      <td>0</td>\n",
       "      <td>3</td>\n",
       "      <td>0</td>\n",
       "      <td>...</td>\n",
       "      <td>1</td>\n",
       "      <td>0</td>\n",
       "      <td>0</td>\n",
       "      <td>1</td>\n",
       "      <td>0</td>\n",
       "      <td>0</td>\n",
       "      <td>0</td>\n",
       "      <td>1</td>\n",
       "      <td>0</td>\n",
       "      <td>0</td>\n",
       "    </tr>\n",
       "  </tbody>\n",
       "</table>\n",
       "<p>5 rows × 10000 columns</p>\n",
       "</div>"
      ],
      "text/plain": [
       "   1700022a21rik  1700025g04rik  4933401b06rik  5830417i10rik  9330102e08rik  \\\n",
       "0              3              1              2              0              1   \n",
       "1              1              0              0              0              0   \n",
       "2              0              0              1              1              0   \n",
       "3              0              0              0              0              0   \n",
       "4              0              0              0              1              0   \n",
       "\n",
       "   9430018g01rik  9430083a17rik  Aanat  Aasdh  Aatf  ...  Tyrp1  Ubqlnl  \\\n",
       "0              1              1      0      2     0  ...      0       0   \n",
       "1              0              0      0      0     0  ...      1       1   \n",
       "2              0              0      0      0     0  ...      2       2   \n",
       "3              0              0      0      0     1  ...      0       0   \n",
       "4              1              1      0      3     0  ...      1       0   \n",
       "\n",
       "   Ptgdr  P2ry4  Prdm6  Pde6b  Zp1  Dlx4  Opn1sw  Pramef12  \n",
       "0      1      0      0      0    0     0       0         1  \n",
       "1      0      1      1      0    0     0       0         0  \n",
       "2      1      1      0      0    1     0       1         0  \n",
       "3      0      0      0      0    0     0       0         0  \n",
       "4      0      1      0      0    0     1       0         0  \n",
       "\n",
       "[5 rows x 10000 columns]"
      ]
     },
     "execution_count": 4,
     "metadata": {},
     "output_type": "execute_result"
    }
   ],
   "source": [
    "y.head()"
   ]
  },
  {
   "cell_type": "code",
   "execution_count": 5,
   "metadata": {},
   "outputs": [],
   "source": [
    "z = pd.read_csv('./sourcedata/RNA_locations_cell_cortex/RNA_locations_cell_4.csv')"
   ]
  },
  {
   "cell_type": "code",
   "execution_count": 6,
   "metadata": {},
   "outputs": [
    {
     "data": {
      "text/plain": [
       "(913, 10000)"
      ]
     },
     "execution_count": 6,
     "metadata": {},
     "output_type": "execute_result"
    }
   ],
   "source": [
    "y.shape"
   ]
  },
  {
   "cell_type": "code",
   "execution_count": null,
   "metadata": {},
   "outputs": [],
   "source": []
  },
  {
   "cell_type": "code",
   "execution_count": 7,
   "metadata": {},
   "outputs": [],
   "source": [
    "rnaseq = pd.read_csv('GSE71585_RefSeq_counts.csv.gz')"
   ]
  },
  {
   "cell_type": "code",
   "execution_count": 8,
   "metadata": {},
   "outputs": [
    {
     "data": {
      "text/html": [
       "<div>\n",
       "<style scoped>\n",
       "    .dataframe tbody tr th:only-of-type {\n",
       "        vertical-align: middle;\n",
       "    }\n",
       "\n",
       "    .dataframe tbody tr th {\n",
       "        vertical-align: top;\n",
       "    }\n",
       "\n",
       "    .dataframe thead th {\n",
       "        text-align: right;\n",
       "    }\n",
       "</style>\n",
       "<table border=\"1\" class=\"dataframe\">\n",
       "  <thead>\n",
       "    <tr style=\"text-align: right;\">\n",
       "      <th></th>\n",
       "      <th>gene</th>\n",
       "      <th>Calb2_tdTpositive_cell_1</th>\n",
       "      <th>Calb2_tdTpositive_cell_2</th>\n",
       "      <th>Calb2_tdTpositive_cell_3</th>\n",
       "      <th>Calb2_tdTpositive_cell_4</th>\n",
       "      <th>Calb2_tdTpositive_cell_5</th>\n",
       "      <th>Calb2_tdTpositive_cell_6</th>\n",
       "      <th>Calb2_tdTpositive_cell_7</th>\n",
       "      <th>Calb2_tdTpositive_cell_8</th>\n",
       "      <th>Calb2_tdTpositive_cell_9</th>\n",
       "      <th>...</th>\n",
       "      <th>CAV_VISp_Contra_tdTpos_cell_5</th>\n",
       "      <th>Rbp4_CTX_10pg_1</th>\n",
       "      <th>Rbp4_CTX_10pg_2</th>\n",
       "      <th>Rbp4_CTX_10pg_3</th>\n",
       "      <th>Rbp4_CTX_10pg_4</th>\n",
       "      <th>Rbp4_CTX_10pg_5</th>\n",
       "      <th>Rbp4_CTX_10pg_6</th>\n",
       "      <th>Rbp4_CTX_250ng_1</th>\n",
       "      <th>Rbp4_CTX_250ng_2</th>\n",
       "      <th>Trib2_CTX_250ng_1</th>\n",
       "    </tr>\n",
       "  </thead>\n",
       "  <tbody>\n",
       "    <tr>\n",
       "      <th>0</th>\n",
       "      <td>0610005C13Rik</td>\n",
       "      <td>0.00</td>\n",
       "      <td>0.00</td>\n",
       "      <td>0.00</td>\n",
       "      <td>0.0</td>\n",
       "      <td>0.0</td>\n",
       "      <td>0.00</td>\n",
       "      <td>0.00</td>\n",
       "      <td>0.0</td>\n",
       "      <td>0.0</td>\n",
       "      <td>...</td>\n",
       "      <td>0.00</td>\n",
       "      <td>0.0</td>\n",
       "      <td>0.00</td>\n",
       "      <td>0.0</td>\n",
       "      <td>0.0</td>\n",
       "      <td>0.00</td>\n",
       "      <td>0.00</td>\n",
       "      <td>8.00</td>\n",
       "      <td>9.00</td>\n",
       "      <td>5.00</td>\n",
       "    </tr>\n",
       "    <tr>\n",
       "      <th>1</th>\n",
       "      <td>0610007C21Rik</td>\n",
       "      <td>992.00</td>\n",
       "      <td>2287.02</td>\n",
       "      <td>491.78</td>\n",
       "      <td>1932.0</td>\n",
       "      <td>1425.0</td>\n",
       "      <td>130.03</td>\n",
       "      <td>2110.02</td>\n",
       "      <td>955.0</td>\n",
       "      <td>326.0</td>\n",
       "      <td>...</td>\n",
       "      <td>352.06</td>\n",
       "      <td>401.0</td>\n",
       "      <td>1750.99</td>\n",
       "      <td>1463.0</td>\n",
       "      <td>3439.0</td>\n",
       "      <td>502.95</td>\n",
       "      <td>1486.36</td>\n",
       "      <td>956.40</td>\n",
       "      <td>1054.94</td>\n",
       "      <td>944.03</td>\n",
       "    </tr>\n",
       "    <tr>\n",
       "      <th>2</th>\n",
       "      <td>0610007L01Rik</td>\n",
       "      <td>2.57</td>\n",
       "      <td>177.00</td>\n",
       "      <td>0.00</td>\n",
       "      <td>1.0</td>\n",
       "      <td>2.0</td>\n",
       "      <td>3.00</td>\n",
       "      <td>3040.99</td>\n",
       "      <td>101.0</td>\n",
       "      <td>0.0</td>\n",
       "      <td>...</td>\n",
       "      <td>367.00</td>\n",
       "      <td>242.0</td>\n",
       "      <td>1.00</td>\n",
       "      <td>69.0</td>\n",
       "      <td>0.0</td>\n",
       "      <td>53.00</td>\n",
       "      <td>40.15</td>\n",
       "      <td>1251.00</td>\n",
       "      <td>1356.20</td>\n",
       "      <td>1147.00</td>\n",
       "    </tr>\n",
       "    <tr>\n",
       "      <th>3</th>\n",
       "      <td>0610007N19Rik</td>\n",
       "      <td>0.00</td>\n",
       "      <td>0.00</td>\n",
       "      <td>0.00</td>\n",
       "      <td>0.0</td>\n",
       "      <td>0.0</td>\n",
       "      <td>0.00</td>\n",
       "      <td>0.00</td>\n",
       "      <td>0.0</td>\n",
       "      <td>0.0</td>\n",
       "      <td>...</td>\n",
       "      <td>0.00</td>\n",
       "      <td>0.0</td>\n",
       "      <td>0.00</td>\n",
       "      <td>0.0</td>\n",
       "      <td>0.0</td>\n",
       "      <td>704.01</td>\n",
       "      <td>0.00</td>\n",
       "      <td>27.00</td>\n",
       "      <td>37.00</td>\n",
       "      <td>35.00</td>\n",
       "    </tr>\n",
       "    <tr>\n",
       "      <th>4</th>\n",
       "      <td>0610007P08Rik</td>\n",
       "      <td>0.00</td>\n",
       "      <td>0.00</td>\n",
       "      <td>0.00</td>\n",
       "      <td>0.0</td>\n",
       "      <td>0.0</td>\n",
       "      <td>0.00</td>\n",
       "      <td>17.03</td>\n",
       "      <td>0.0</td>\n",
       "      <td>0.0</td>\n",
       "      <td>...</td>\n",
       "      <td>3.00</td>\n",
       "      <td>11.0</td>\n",
       "      <td>0.00</td>\n",
       "      <td>0.0</td>\n",
       "      <td>0.0</td>\n",
       "      <td>0.00</td>\n",
       "      <td>0.00</td>\n",
       "      <td>574.35</td>\n",
       "      <td>570.86</td>\n",
       "      <td>590.84</td>\n",
       "    </tr>\n",
       "  </tbody>\n",
       "</table>\n",
       "<p>5 rows × 1810 columns</p>\n",
       "</div>"
      ],
      "text/plain": [
       "            gene  Calb2_tdTpositive_cell_1  Calb2_tdTpositive_cell_2  \\\n",
       "0  0610005C13Rik                      0.00                      0.00   \n",
       "1  0610007C21Rik                    992.00                   2287.02   \n",
       "2  0610007L01Rik                      2.57                    177.00   \n",
       "3  0610007N19Rik                      0.00                      0.00   \n",
       "4  0610007P08Rik                      0.00                      0.00   \n",
       "\n",
       "   Calb2_tdTpositive_cell_3  Calb2_tdTpositive_cell_4  \\\n",
       "0                      0.00                       0.0   \n",
       "1                    491.78                    1932.0   \n",
       "2                      0.00                       1.0   \n",
       "3                      0.00                       0.0   \n",
       "4                      0.00                       0.0   \n",
       "\n",
       "   Calb2_tdTpositive_cell_5  Calb2_tdTpositive_cell_6  \\\n",
       "0                       0.0                      0.00   \n",
       "1                    1425.0                    130.03   \n",
       "2                       2.0                      3.00   \n",
       "3                       0.0                      0.00   \n",
       "4                       0.0                      0.00   \n",
       "\n",
       "   Calb2_tdTpositive_cell_7  Calb2_tdTpositive_cell_8  \\\n",
       "0                      0.00                       0.0   \n",
       "1                   2110.02                     955.0   \n",
       "2                   3040.99                     101.0   \n",
       "3                      0.00                       0.0   \n",
       "4                     17.03                       0.0   \n",
       "\n",
       "   Calb2_tdTpositive_cell_9  ...  CAV_VISp_Contra_tdTpos_cell_5  \\\n",
       "0                       0.0  ...                           0.00   \n",
       "1                     326.0  ...                         352.06   \n",
       "2                       0.0  ...                         367.00   \n",
       "3                       0.0  ...                           0.00   \n",
       "4                       0.0  ...                           3.00   \n",
       "\n",
       "   Rbp4_CTX_10pg_1  Rbp4_CTX_10pg_2  Rbp4_CTX_10pg_3  Rbp4_CTX_10pg_4  \\\n",
       "0              0.0             0.00              0.0              0.0   \n",
       "1            401.0          1750.99           1463.0           3439.0   \n",
       "2            242.0             1.00             69.0              0.0   \n",
       "3              0.0             0.00              0.0              0.0   \n",
       "4             11.0             0.00              0.0              0.0   \n",
       "\n",
       "   Rbp4_CTX_10pg_5  Rbp4_CTX_10pg_6  Rbp4_CTX_250ng_1  Rbp4_CTX_250ng_2  \\\n",
       "0             0.00             0.00              8.00              9.00   \n",
       "1           502.95          1486.36            956.40           1054.94   \n",
       "2            53.00            40.15           1251.00           1356.20   \n",
       "3           704.01             0.00             27.00             37.00   \n",
       "4             0.00             0.00            574.35            570.86   \n",
       "\n",
       "   Trib2_CTX_250ng_1  \n",
       "0               5.00  \n",
       "1             944.03  \n",
       "2            1147.00  \n",
       "3              35.00  \n",
       "4             590.84  \n",
       "\n",
       "[5 rows x 1810 columns]"
      ]
     },
     "execution_count": 8,
     "metadata": {},
     "output_type": "execute_result"
    }
   ],
   "source": [
    "rnaseq.head()"
   ]
  },
  {
   "cell_type": "code",
   "execution_count": 13,
   "metadata": {},
   "outputs": [],
   "source": [
    "genes, comm1, comm2 = np.intersect1d(rnaseq['gene'].values, y.columns, return_indices = True)"
   ]
  },
  {
   "cell_type": "code",
   "execution_count": 14,
   "metadata": {},
   "outputs": [
    {
     "data": {
      "text/plain": [
       "array([ 1908,  1945,  1961, ..., 23323, 23324, 23325])"
      ]
     },
     "execution_count": 14,
     "metadata": {},
     "output_type": "execute_result"
    }
   ],
   "source": [
    "comm1"
   ]
  },
  {
   "cell_type": "code",
   "execution_count": 15,
   "metadata": {},
   "outputs": [
    {
     "data": {
      "text/plain": [
       "array([7148, 8339, 9818, ..., 3333, 9700, 4391])"
      ]
     },
     "execution_count": 15,
     "metadata": {},
     "output_type": "execute_result"
    }
   ],
   "source": [
    "comm2"
   ]
  },
  {
   "cell_type": "code",
   "execution_count": 16,
   "metadata": {},
   "outputs": [
    {
     "data": {
      "text/plain": [
       "array(['A1cf', 'A3galt2', 'A4galt', ..., 'Zyx', 'Zzef1', 'Zzz3'],\n",
       "      dtype=object)"
      ]
     },
     "execution_count": 16,
     "metadata": {},
     "output_type": "execute_result"
    }
   ],
   "source": [
    "genes"
   ]
  },
  {
   "cell_type": "code",
   "execution_count": 45,
   "metadata": {},
   "outputs": [],
   "source": [
    "fish_shared = y.values[:, comm2]\n",
    "rna_shared = rnaseq.values[comm1, 1:].T.astype(np.float32)"
   ]
  },
  {
   "cell_type": "code",
   "execution_count": 40,
   "metadata": {},
   "outputs": [],
   "source": [
    "import h5py"
   ]
  },
  {
   "cell_type": "code",
   "execution_count": 37,
   "metadata": {},
   "outputs": [],
   "source": [
    "coords = x[['X', 'Y']].values"
   ]
  },
  {
   "cell_type": "code",
   "execution_count": 38,
   "metadata": {},
   "outputs": [
    {
     "data": {
      "text/plain": [
       "(913, 2)"
      ]
     },
     "execution_count": 38,
     "metadata": {},
     "output_type": "execute_result"
    }
   ],
   "source": [
    "coords.shape"
   ]
  },
  {
   "cell_type": "code",
   "execution_count": 57,
   "metadata": {},
   "outputs": [],
   "source": [
    "#f = h5py.File('cortex_svz_combined.hdf5', 'w')"
   ]
  },
  {
   "cell_type": "code",
   "execution_count": 56,
   "metadata": {},
   "outputs": [],
   "source": [
    "#f.create_dataset(\"fish_shared\", data = fish_shared)\n",
    "#f.create_dataset(\"rna_shared\", data = rna_shared)\n",
    "#f.create_dataset(\"coords\", data = coords)\n",
    "#f.create_dataset(\"genes\", data = genes.astype(str))\n",
    "#f.close()"
   ]
  },
  {
   "cell_type": "code",
   "execution_count": 59,
   "metadata": {},
   "outputs": [],
   "source": [
    "f = h5py.File('cortex_svz_combined.hdf5','r')"
   ]
  },
  {
   "cell_type": "code",
   "execution_count": 61,
   "metadata": {},
   "outputs": [
    {
     "data": {
      "text/plain": [
       "(2722, 9541)"
      ]
     },
     "execution_count": 61,
     "metadata": {},
     "output_type": "execute_result"
    }
   ],
   "source": [
    "np.vstack((f['fish_shared'],f['rna_shared'])).shape"
   ]
  },
  {
   "cell_type": "code",
   "execution_count": 65,
   "metadata": {},
   "outputs": [
    {
     "data": {
      "text/plain": [
       "1809"
      ]
     },
     "execution_count": 65,
     "metadata": {},
     "output_type": "execute_result"
    }
   ],
   "source": [
    "f['rna_shared'].shape[0]"
   ]
  },
  {
   "cell_type": "code",
   "execution_count": 67,
   "metadata": {},
   "outputs": [],
   "source": [
    "z_init = f['coords']\n",
    "zvar_init = np.random.normal(np.mean(z_init, axis = 0), np.var(z_init, axis = 0), size = (1809, 2))"
   ]
  },
  {
   "cell_type": "code",
   "execution_count": 68,
   "metadata": {},
   "outputs": [
    {
     "data": {
      "text/plain": [
       "array([[   5390.94588061, -314370.75053569],\n",
       "       [ -36131.61173979, -248999.53826286],\n",
       "       [ 462297.19393533,  -77076.46211163],\n",
       "       ...,\n",
       "       [-175309.60527432, -120711.90531892],\n",
       "       [ 198875.63682724,  -25158.44598109],\n",
       "       [ 601653.49086585,  -25126.96308198]])"
      ]
     },
     "execution_count": 68,
     "metadata": {},
     "output_type": "execute_result"
    }
   ],
   "source": [
    "zvar_init"
   ]
  },
  {
   "cell_type": "code",
   "execution_count": 71,
   "metadata": {},
   "outputs": [
    {
     "data": {
      "text/plain": [
       "array([1048.55005476,  986.94913472])"
      ]
     },
     "execution_count": 71,
     "metadata": {},
     "output_type": "execute_result"
    }
   ],
   "source": [
    "np.mean(z_init, axis = 0)"
   ]
  },
  {
   "cell_type": "code",
   "execution_count": 73,
   "metadata": {},
   "outputs": [
    {
     "data": {
      "text/plain": [
       "array([103.12, 122.03])"
      ]
     },
     "execution_count": 73,
     "metadata": {},
     "output_type": "execute_result"
    }
   ],
   "source": [
    "np.min(z_init, axis = 0)"
   ]
  },
  {
   "cell_type": "code",
   "execution_count": 75,
   "metadata": {},
   "outputs": [
    {
     "data": {
      "text/plain": [
       "1960.0"
      ]
     },
     "execution_count": 75,
     "metadata": {},
     "output_type": "execute_result"
    }
   ],
   "source": [
    "np.max(z_init)"
   ]
  },
  {
   "cell_type": "code",
   "execution_count": null,
   "metadata": {},
   "outputs": [],
   "source": []
  }
 ],
 "metadata": {
  "kernelspec": {
   "display_name": "Python 2",
   "language": "python",
   "name": "python2"
  },
  "language_info": {
   "codemirror_mode": {
    "name": "ipython",
    "version": 2
   },
   "file_extension": ".py",
   "mimetype": "text/x-python",
   "name": "python",
   "nbconvert_exporter": "python",
   "pygments_lexer": "ipython2",
   "version": "2.7.16"
  }
 },
 "nbformat": 4,
 "nbformat_minor": 2
}
